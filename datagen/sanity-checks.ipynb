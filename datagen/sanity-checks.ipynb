{
 "cells": [
  {
   "cell_type": "code",
   "execution_count": 27,
   "id": "b2eb066b",
   "metadata": {},
   "outputs": [],
   "source": [
    "import pickle as pkl\n",
    "import os\n",
    "from collections import Counter"
   ]
  },
  {
   "cell_type": "code",
   "execution_count": 41,
   "id": "9a6bd7a8",
   "metadata": {},
   "outputs": [],
   "source": [
    "data_dir = '../../domain-size-inv/data'\n",
    "# !ls ../../domain-size-inv/data"
   ]
  },
  {
   "cell_type": "code",
   "execution_count": 18,
   "id": "95be5012",
   "metadata": {},
   "outputs": [
    {
     "name": "stdout",
     "output_type": "stream",
     "text": [
      "dict_keys(['query', 'target', 'target_set', 'count']) dict_keys(['query', 'target', 'target_set', 'count'])\n",
      "(144,) (64,)\n",
      "(144,) (64,)\n",
      "(1, 144) (1, 64)\n",
      "1 1\n"
     ]
    }
   ],
   "source": [
    "## SUDOKU\n",
    "with open(os.path.join(data_dir,'sudoku_test_bs-12-mask30to70_unq.pkl'),'rb') as f:\n",
    "    dat_real = pkl.load(f)\n",
    "with open('sudoku_gen/temp-puzzles.pkl','rb') as f:\n",
    "    dat_script = pkl.load(f)\n",
    "\n",
    "# KEY CHECK\n",
    "assert(dat_real[0].keys() == dat_script[0].keys())\n",
    "print(dat_real[0].keys(), dat_script[0].keys())\n",
    "\n",
    "print(dat_real[0]['query'].shape, dat_script[0]['query'].shape)\n",
    "print(dat_real[0]['target'].shape, dat_script[0]['target'].shape)\n",
    "print(dat_real[0]['target_set'].shape, dat_script[0]['target_set'].shape)\n",
    "print(dat_real[0]['count'], dat_script[0]['count'])"
   ]
  },
  {
   "cell_type": "code",
   "execution_count": 39,
   "id": "4416d667",
   "metadata": {},
   "outputs": [
    {
     "name": "stdout",
     "output_type": "stream",
     "text": [
      "dict_keys(['edges', 'target', 'query', 'chromatic_num', 'num_nodes', 'num_edges', 'target_set']) dict_keys(['edges', 'target', 'query', 'chromatic_num', 'num_nodes', 'num_edges', 'target_set'])\n",
      "Counter({(5700, 2): 28208})\n",
      "Counter({(151,): 28208})\n",
      "Counter({(151,): 28208})\n",
      "Counter({(3660, 2): 341})\n",
      "Counter({(121,): 341})\n",
      "Counter({(121,): 341})\n"
     ]
    }
   ],
   "source": [
    "## GCP\n",
    "# with open(os.path.join(data_dir,'gcp_test_k-4to7_n-40to150_mask-30to70.pkl'),'rb') as f:\n",
    "#     dat_real = pkl.load(f)\n",
    "# with open('gcp_gen/temp-puzzles.pkl','rb') as f:\n",
    "#     dat_script = pkl.load(f)\n",
    "\n",
    "# KEY CHECK\n",
    "assert(dat_real[0].keys() == dat_script[0].keys())\n",
    "print(dat_real[0].keys(), dat_script[0].keys())\n",
    "\n",
    "# Only 1 element in Counter\n",
    "print(Counter([x['edges'].shape for x in dat_real]))\n",
    "print(Counter([x['query'].shape for x in dat_real]))\n",
    "print(Counter([x['target'].shape for x in dat_real]))\n",
    "\n",
    "print(Counter([x['edges'].shape for x in dat_script]))\n",
    "print(Counter([x['query'].shape for x in dat_script]))\n",
    "print(Counter([x['target'].shape for x in dat_script]))"
   ]
  },
  {
   "cell_type": "code",
   "execution_count": 47,
   "id": "5cce492d",
   "metadata": {},
   "outputs": [
    {
     "name": "stdout",
     "output_type": "stream",
     "text": [
      "dict_keys(['lt_edges', 'target', 'query', 'n', 'target_set', 'num_lt_edges', 'count', 'status']) dict_keys(['lt_edges', 'target', 'query', 'n', 'target_set', 'num_lt_edges', 'count', 'status'])\n",
      "Counter({(121,): 2203})\n",
      "Counter({(121,): 2203})\n",
      "Counter({(24, 2): 1798, (22, 2): 405})\n",
      "Counter({22: 2203})\n",
      "Counter({(64,): 72})\n",
      "Counter({(64,): 72})\n",
      "Counter({(16, 2): 72})\n",
      "Counter({16: 72})\n"
     ]
    }
   ],
   "source": [
    "## Futo\n",
    "with open(os.path.join(data_dir,'futo_unq_test_bs-11_mask-30to70.pkl'),'rb') as f:\n",
    "    dat_real = pkl.load(f)\n",
    "with open('futo_gen/temp-puzzles.pkl','rb') as f:\n",
    "    dat_script = pkl.load(f)\n",
    "\n",
    "# KEY CHECK\n",
    "assert(dat_real[0].keys() == dat_script[0].keys())\n",
    "print(dat_real[0].keys(), dat_script[0].keys())\n",
    "\n",
    "# Only 1 element in Counter\n",
    "print(Counter([x['query'].shape for x in dat_real]))\n",
    "print(Counter([x['target'].shape for x in dat_real]))\n",
    "print(Counter([x['lt_edges'].shape for x in dat_real]))\n",
    "print(Counter([x['num_lt_edges'] for x in dat_real]))\n",
    "\n",
    "print(Counter([x['query'].shape for x in dat_script]))\n",
    "print(Counter([x['target'].shape for x in dat_script]))\n",
    "print(Counter([x['lt_edges'].shape for x in dat_script]))\n",
    "print(Counter([x['num_lt_edges'] for x in dat_script]))\n"
   ]
  },
  {
   "cell_type": "code",
   "execution_count": null,
   "id": "0a9278b3",
   "metadata": {},
   "outputs": [],
   "source": []
  }
 ],
 "metadata": {
  "kernelspec": {
   "display_name": "Python 3",
   "language": "python",
   "name": "python3"
  },
  "language_info": {
   "codemirror_mode": {
    "name": "ipython",
    "version": 3
   },
   "file_extension": ".py",
   "mimetype": "text/x-python",
   "name": "python",
   "nbconvert_exporter": "python",
   "pygments_lexer": "ipython3",
   "version": "3.7.9"
  }
 },
 "nbformat": 4,
 "nbformat_minor": 5
}
